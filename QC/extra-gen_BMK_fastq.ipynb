{
 "cells": [
  {
   "cell_type": "code",
   "execution_count": 1,
   "metadata": {
    "tags": [
     "parameters"
    ]
   },
   "outputs": [],
   "source": [
    "sample = \"E14.5_embryo_dox_E10.5\"\n",
    "locus = \"CA\"\n",
    "called_bc_file = f\"BST_output/{sample}_{locus}/02.Umi2Gene/features.tsv\"\n",
    "R1_file  = f\"./slim_fastq/{sample}_{locus}_R1.fastq.gz\"\n",
    "R2_file  = f\"./slim_fastq/{sample}_{locus}_R2.fastq.gz\"\n",
    "\n",
    "sc10xv3_cell_barcode_whitelist = \"./10xV3_barcodes.txt.gz\" ## {carlin_dir}/cfg/10xV3_barcodes.txt.gz"
   ]
  },
  {
   "cell_type": "code",
   "execution_count": null,
   "metadata": {},
   "outputs": [],
   "source": [
    "if locus == \"CA\":\n",
    "    template = \"cCARLIN\"\n",
    "elif locus == \"TA\":\n",
    "    template = \"Tigre_2022_v2\"\n",
    "elif locus == \"RA\":\n",
    "    template = \"Rosa_v2\"\n",
    "else:\n",
    "    raise ValueError(f\"Invalid locus: {locus}. locus must be ['CA','TA','RA']\")"
   ]
  },
  {
   "cell_type": "code",
   "execution_count": 2,
   "metadata": {},
   "outputs": [],
   "source": [
    "## Matlab -> python. uisng clone_id identified by the python-version of the snakemake_DARLIN pipeline, \n",
    "## convert to raw fastq file, then run matlab version to get the alignment results.\n",
    "import os\n",
    "import gzip\n",
    "import random\n",
    "import pandas as pd\n",
    "# from mosaiclineage import DARLIN as dar"
   ]
  },
  {
   "cell_type": "code",
   "execution_count": 3,
   "metadata": {},
   "outputs": [],
   "source": [
    "def gen_umi(length: int) -> str:\n",
    "    bases = ['A', 'T', 'C', 'G']\n",
    "    umi_sequence = ''.join(random.choice(bases) for _ in range(length))\n",
    "    return umi_sequence\n",
    "\n",
    "def gen_base_qual_score(length: int) -> str:\n",
    "    qual_scores = [chr(random.randint(30, 40) + 33) for _ in range(length)]\n",
    "    return ''.join(qual_scores)\n",
    "\n",
    "def gen_10xv3_R1(seq_id: str, cell_barcode: str) -> str:\n",
    "    if len(cell_barcode) != 16:\n",
    "        raise ValueError(\"Cell barcode must be 16 bases long\")\n",
    "    umi_sequence = gen_umi(12)\n",
    "    sequence = cell_barcode + umi_sequence\n",
    "    qual_score = gen_base_qual_score(28)\n",
    "    fastq_read = f\"@{seq_id}\\n{sequence}\\n+\\n{qual_score}\"\n",
    "    return fastq_read\n",
    "\n",
    "def gen_10xv3_R1_fastq(cell_barcodes: list, filename: str) -> None:\n",
    "    \"\"\"\n",
    "    Generates a compressed FASTQ file containing reads for each cell barcode provided.\n",
    "\n",
    "    Parameters:\n",
    "        cell_barcodes (list): A list of cell barcodes, each 16 bases long.\n",
    "        filename (str): The output filename for the compressed FASTQ file (e.g., \"R1_reads.fastq.gz\").\n",
    "\n",
    "    Raises:\n",
    "        ValueError: If any cell barcode in the list is not 16 bases long.\n",
    "\n",
    "    The function creates a gzip-compressed FASTQ file where each read is generated using the provided cell barcodes.\n",
    "    The sequence ID for each read is derived from the filename prefix and the index of the barcode in the list.\n",
    "    \"\"\"\n",
    "    prefix = filename.split('/')[-1].replace(\"_R1.fastq.gz\", \"\")\n",
    "    with gzip.open(filename, 'wt') as f:\n",
    "        for i, barcode in enumerate(cell_barcodes):\n",
    "            if len(barcode) != 16:\n",
    "                raise ValueError(f\"Cell barcode at index {i} must be 16 bases long\")\n",
    "            seq_id = f\"{prefix}_{i+1}\"\n",
    "            fastq_read = gen_10xv3_R1(seq_id, barcode)\n",
    "            f.write(fastq_read + '\\n')\n",
    "\n",
    "def gen_10xv3_R2_fastq(sequences: list, filename: str) -> None:\n",
    "    \"\"\"\n",
    "    Generates a compressed FASTQ file containing R2 reads for each sequence provided.\n",
    "\n",
    "    Parameters:\n",
    "        sequences (list): A list of sequences to be included in the R2 reads.\n",
    "        filename (str): The output filename for the compressed FASTQ file (e.g., \"R2_reads.fastq.gz\").\n",
    "    \"\"\"\n",
    "    prefix = filename.split('/')[-1].replace(\"_R2.fastq.gz\", \"\")\n",
    "    with gzip.open(filename, 'wt') as f:\n",
    "        for i, sequence in enumerate(sequences):\n",
    "            seq_id = f\"{prefix}_{i+1}\"\n",
    "            qual_score = gen_base_qual_score(len(sequence))\n",
    "            fastq_read = f\"@{seq_id}\\n{sequence}\\n+\\n{qual_score}\"\n",
    "            f.write(fastq_read + '\\n')\n",
    "\n",
    "def gen_10xv3_fastq(locus: str, cell_bc: list, clone_bc: list, R1_file: str, R2_file: str) -> None:\n",
    "    if locus.startswith(\"Tigre\"):\n",
    "        seq_5prime = 'GCTCGGTACCTCGCGAA'\n",
    "        seq_3prime = 'GTCTTGTCGGTGCCT'\n",
    "    elif locus.startswith(\"cCARLIN\"):\n",
    "        seq_5prime = 'GAGCTGTACAAGTAAGCGGC'\n",
    "        seq_3prime = 'AGAATTCTAACTAGAGCTCGCTGATCAGCCT'\n",
    "    elif locus.startswith(\"Rosa\"):\n",
    "        seq_5prime = 'ATGTACAAGTAAAGCGGCC'\n",
    "        seq_3prime = 'GTCTGCTGTGTGCCT'\n",
    "    else:\n",
    "        raise ValueError(f\"Invalid locus: {locus}. locus must start with ['cCARLIN','Tigre','Rosa']\")\n",
    "    clone_bc = [seq_5prime + i + seq_3prime for i in clone_bc]\n",
    "    R2_dir = os.path.dirname(R2_file)\n",
    "    if not os.path.exists(R2_dir):\n",
    "        os.makedirs(R2_dir)\n",
    "    gen_10xv3_R1_fastq(cell_bc,  R1_file)\n",
    "    gen_10xv3_R2_fastq(clone_bc, R2_file)\n"
   ]
  },
  {
   "cell_type": "code",
   "execution_count": 5,
   "metadata": {},
   "outputs": [
    {
     "name": "stdout",
     "output_type": "stream",
     "text": [
      "875 lines. 875 unique clone barcodes\n"
     ]
    }
   ],
   "source": [
    "#### main ####\n",
    "## load sc10xv3 cell barcode whitelist\n",
    "with gzip.open(sc10xv3_cell_barcode_whitelist, 'rt') as f:\n",
    "    cell_barcodes = [line.strip() for line in f]\n",
    "\n",
    "## load DARLIN output\n",
    "data_df = pd.read_csv(called_bc_file, sep='\\t', header=None, names=['clone_id', 'clone_bc', 'type'])\n",
    "n_lines = len(data_df['clone_id'])\n",
    "n_uniq_clone_bcs = len(data_df['clone_id'].unique())\n",
    "msg = f'{n_lines} lines. {n_uniq_clone_bcs} unique clone barcodes'\n",
    "print(msg)\n",
    "\n",
    "## generate 10xv3 fastq\n",
    "clone_barcodes = data_df['clone_id']\n",
    "cell_barcodes = random.sample(cell_barcodes, n_uniq_clone_bcs)\n",
    "\n",
    "gen_10xv3_fastq(\n",
    "    locus    = template, \n",
    "    cell_bc  = cell_barcodes, \n",
    "    clone_bc = clone_barcodes,\n",
    "    R1_file = R1_file,\n",
    "    R2_file = R2_file\n",
    ")"
   ]
  },
  {
   "cell_type": "code",
   "execution_count": 8,
   "metadata": {},
   "outputs": [
    {
     "name": "stdout",
     "output_type": "stream",
     "text": [
      "@E14.5_embryo_dox_E10.5_CA_1\n",
      "CGAGTGCGTTCGGAGATGTGAGCATGCT\n",
      "+\n",
      "GGHEGIDFBE@ABDCFBB?HDA?BFGHC\n",
      "@E14.5_embryo_dox_E10.5_CA_2\n",
      "GCTGGGTGTATTGGTCGACCGGGGTCGA\n",
      "+\n",
      "IIEFBG@IBHF?DIGIEEBFD?FIBICF\n",
      "@E14.5_embryo_dox_E10.5_CA_3\n",
      "TTATTGCCAGACCTATACGTCGTCACTC\n",
      "\n",
      "gzip: stdout: Broken pipe\n"
     ]
    }
   ],
   "source": [
    "!zcat slim_fastq/{sample}_{locus}_R1.fastq.gz | head -10"
   ]
  },
  {
   "cell_type": "code",
   "execution_count": 7,
   "metadata": {},
   "outputs": [
    {
     "name": "stdout",
     "output_type": "stream",
     "text": [
      "@E14.5_embryo_dox_E10.5_CA_1\n",
      "GAGCTGTACAAGTAAGCGGCCGTGGGAGCTAGAATTCTAACTAGAGCTCGCTGATCAGCCT\n",
      "+\n",
      "@?AAEHCAI?EHC@CEAIGIIDFED@BE?GADABGGA??DD@?E@AD@DFBGEABC?DGIC\n",
      "@E14.5_embryo_dox_E10.5_CA_2\n",
      "GAGCTGTACAAGTAAGCGGCCGATGGGAGCTAGAATTCTAACTAGAGCTCGCTGATCAGCCT\n",
      "+\n",
      "?CGAA?BD?DH@GEIEIBHBHBCD@AH@FEBCGEGH?H???E@EF?HEHDBAIE?FADBF@D\n",
      "@E14.5_embryo_dox_E10.5_CA_3\n",
      "GAGCTGTACAAGTAAGCGGCCGCCGGACTGCACGAGAATTCTAACTAGAGCTCGCTGATCAGCCT\n",
      "\n",
      "gzip: stdout: Broken pipe\n"
     ]
    }
   ],
   "source": [
    "!zcat slim_fastq/{sample}_{locus}_R2.fastq.gz | head -10"
   ]
  },
  {
   "cell_type": "code",
   "execution_count": null,
   "metadata": {},
   "outputs": [],
   "source": []
  }
 ],
 "metadata": {
  "celltoolbar": "Tags",
  "kernelspec": {
   "display_name": "Python 3 (ipykernel)",
   "language": "python",
   "name": "python3"
  },
  "language_info": {
   "codemirror_mode": {
    "name": "ipython",
    "version": 3
   },
   "file_extension": ".py",
   "mimetype": "text/x-python",
   "name": "python",
   "nbconvert_exporter": "python",
   "pygments_lexer": "ipython3",
   "version": "3.8.20"
  }
 },
 "nbformat": 4,
 "nbformat_minor": 2
}
