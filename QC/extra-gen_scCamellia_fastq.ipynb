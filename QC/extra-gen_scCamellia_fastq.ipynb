{
 "cells": [
  {
   "cell_type": "code",
   "execution_count": 1,
   "metadata": {
    "tags": [
     "parameters"
    ]
   },
   "outputs": [],
   "source": [
    "called_bc_file = \"/mnt/data/jianing/darlin_paper/snakemake_DARLIN/jobs/scCamellia_lineage/DARLIN/python_DARLIN/LL653-E1-P1-CA/called_barcodes_by_SW_method.csv\"\n",
    "locus    = \"cCARLIN\" # 'Tigre_2022_v2' 'Rosa_v2' 'cCARLIN'\n",
    "R1_file  = \"/mnt/data/jianing/darlin_paper/snakemake_DARLIN/jobs/scCamellia_lineage/slim_fastq/LL653-E1-P1-CA_L001_R1_001.fastq.gz\"\n",
    "R2_file  = \"/mnt/data/jianing/darlin_paper/snakemake_DARLIN/jobs/scCamellia_lineage/slim_fastq/LL653-E1-P1-CA_L001_R2_001.fastq.gz\""
   ]
  },
  {
   "cell_type": "code",
   "execution_count": 11,
   "metadata": {},
   "outputs": [],
   "source": [
    "## Matlab -> python. uisng clone_id identified by the python-version of the snakemake_DARLIN pipeline, \n",
    "## convert to raw fastq file, then run matlab version to get the alignment results.\n",
    "## scCamellia: R1 350 bp; R2 28 bp\n",
    "## CARLIN (R1)\n",
    "## BC+UMI = 8+8 (R2)\n",
    "import os\n",
    "import gzip\n",
    "import random\n",
    "import pandas as pd\n",
    "\n",
    "def gen_umi(length: int) -> str:\n",
    "    bases = ['A', 'T', 'C', 'G']\n",
    "    umi_sequence = ''.join(random.choice(bases) for _ in range(length))\n",
    "    return umi_sequence\n",
    "\n",
    "def gen_base_qual_score(length: int) -> str:\n",
    "    qual_scores = [chr(random.randint(30, 40) + 33) for _ in range(length)]\n",
    "    return ''.join(qual_scores)\n",
    "\n",
    "def gen_scCamellia_R2(seq_id: str, cell_barcode: str) -> str:\n",
    "    if len(cell_barcode) != 8:\n",
    "        raise ValueError(\"Cell barcode must be 8 bases long\")\n",
    "    umi_sequence = gen_umi(8)\n",
    "    sequence = cell_barcode + umi_sequence\n",
    "    qual_score = gen_base_qual_score(16)\n",
    "    fastq_read = f\"@{seq_id}\\n{sequence}\\n+\\n{qual_score}\"\n",
    "    return fastq_read\n",
    "\n",
    "def gen_scCamellia_R2_fastq(cell_barcodes: list, filename: str) -> None:\n",
    "    \"\"\"\n",
    "    Generates a compressed FASTQ file containing reads for each cell barcode provided.\n",
    "\n",
    "    Parameters:\n",
    "        cell_barcodes (list): A list of cell barcodes, each 8 bases long.\n",
    "        filename (str): The output filename for the compressed FASTQ file (e.g., \"R2_reads.fastq.gz\").\n",
    "\n",
    "    Raises:\n",
    "        ValueError: If any cell barcode in the list is not 8 bases long.\n",
    "\n",
    "    The function creates a gzip-compressed FASTQ file where each read is generated using the provided cell barcodes.\n",
    "    The sequence ID for each read is derived from the filename prefix and the index of the barcode in the list.\n",
    "    \"\"\"\n",
    "    prefix = filename.split('/')[-1].replace(\"_L001_R2_001.fastq.gz\", \"\")\n",
    "    with gzip.open(filename, 'wt') as f:\n",
    "        for i, barcode in enumerate(cell_barcodes):\n",
    "            if len(barcode) != 8:\n",
    "                raise ValueError(f\"Cell barcode at index {i} must be 8 bases long\")\n",
    "            seq_id = f\"{prefix}_{i+1}\"\n",
    "            fastq_read = gen_scCamellia_R2(seq_id, barcode)\n",
    "            f.write(fastq_read + '\\n')\n",
    "\n",
    "def gen_scCamellia_R1_fastq(sequences: list, filename: str) -> None:\n",
    "    \"\"\"\n",
    "    Generates a compressed FASTQ file containing R1 reads for each sequence provided.\n",
    "\n",
    "    Parameters:\n",
    "        sequences (list): A list of sequences to be included in the R1 reads.\n",
    "        filename (str): The output filename for the compressed FASTQ file (e.g., \"R1_reads.fastq.gz\").\n",
    "    \"\"\"\n",
    "    prefix = filename.split('/')[-1].replace(\"_L001_R1_001.fastq.gz\", \"\")\n",
    "    with gzip.open(filename, 'wt') as f:\n",
    "        for i, sequence in enumerate(sequences):\n",
    "            seq_id = f\"{prefix}_{i+1}\"\n",
    "            qual_score = gen_base_qual_score(len(sequence))\n",
    "            fastq_read = f\"@{seq_id}\\n{sequence}\\n+\\n{qual_score}\"\n",
    "            f.write(fastq_read + '\\n')\n",
    "\n",
    "def gen_scCamellia_fastq(locus: str, cell_bc: list, clone_bc: list, R1_file: str, R2_file: str) -> None:\n",
    "    if locus.startswith(\"Tigre\"):\n",
    "        seq_5prime = 'GCTCGGTACCTCGCGAA'\n",
    "        seq_3prime = 'GTCTTGTCGGTGCCT'\n",
    "    elif locus.startswith(\"cCARLIN\"):\n",
    "        seq_5prime = 'GAGCTGTACAAGTAAGCGGC'\n",
    "        seq_3prime = 'AGAATTCTAACTAGAGCTCGCTGATCAGCCT'\n",
    "    elif locus.startswith(\"Rosa\"):\n",
    "        seq_5prime = 'ATGTACAAGTAAAGCGGCC'\n",
    "        seq_3prime = 'GTCTGCTGTGTGCCT'\n",
    "    else:\n",
    "        raise ValueError(f\"Invalid locus: {locus}. locus must start with ['cCARLIN','Tigre','Rosa']\")\n",
    "    clone_bc = [seq_5prime + i + seq_3prime for i in clone_bc]\n",
    "    R2_dir = os.path.dirname(R2_file)\n",
    "    if not os.path.exists(R2_dir):\n",
    "        os.makedirs(R2_dir)\n",
    "    gen_scCamellia_R2_fastq(cell_bc,  R2_file)\n",
    "    gen_scCamellia_R1_fastq(clone_bc, R1_file)"
   ]
  },
  {
   "cell_type": "code",
   "execution_count": 8,
   "metadata": {},
   "outputs": [
    {
     "name": "stdout",
     "output_type": "stream",
     "text": [
      "23 lines. 20 unique clone barcodes\n"
     ]
    }
   ],
   "source": [
    "data_df = pd.read_csv(called_bc_file)\n",
    "n_lines = len(data_df['clone_id'])\n",
    "n_uniq_clone_bcs = len(data_df['clone_id'].unique())\n",
    "msg = f'{n_lines} lines. {n_uniq_clone_bcs} unique clone barcodes'\n",
    "print(msg)"
   ]
  },
  {
   "cell_type": "code",
   "execution_count": 9,
   "metadata": {},
   "outputs": [],
   "source": [
    "data_df_uniq = data_df[['cell_bc', 'clone_id']].drop_duplicates('clone_id')\n",
    "cell_barcodes = data_df_uniq['cell_bc'].tolist()\n",
    "clone_barcodes = data_df_uniq['clone_id'].tolist()"
   ]
  },
  {
   "cell_type": "code",
   "execution_count": 12,
   "metadata": {},
   "outputs": [],
   "source": [
    "gen_scCamellia_fastq(\n",
    "    locus    = locus, \n",
    "    cell_bc  = cell_barcodes, \n",
    "    clone_bc = clone_barcodes,\n",
    "    R1_file = R1_file,\n",
    "    R2_file = R2_file\n",
    ")"
   ]
  },
  {
   "cell_type": "code",
   "execution_count": null,
   "metadata": {},
   "outputs": [],
   "source": []
  }
 ],
 "metadata": {
  "celltoolbar": "Tags",
  "kernelspec": {
   "display_name": "Python 3 (ipykernel)",
   "language": "python",
   "name": "python3"
  },
  "language_info": {
   "codemirror_mode": {
    "name": "ipython",
    "version": 3
   },
   "file_extension": ".py",
   "mimetype": "text/x-python",
   "name": "python",
   "nbconvert_exporter": "python",
   "pygments_lexer": "ipython3",
   "version": "3.8.19"
  }
 },
 "nbformat": 4,
 "nbformat_minor": 2
}
